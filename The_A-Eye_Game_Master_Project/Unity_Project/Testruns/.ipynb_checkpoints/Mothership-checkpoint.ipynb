{
 "cells": [
  {
   "cell_type": "code",
   "execution_count": 1,
   "metadata": {
    "collapsed": false
   },
   "outputs": [],
   "source": [
    "#Initilization of the data from the .txt files.\n",
    "\n",
    "import matplotlib.pyplot as plt\n",
    "\n",
    "name = \"Anders_Eyesight\"\n",
    "\n",
    "#putting the data into python lists\n",
    "pupilX=[]\n",
    "pupilY=[]\n",
    "triggerX=[]\n",
    "triggerY=[]\n",
    "lookX=[]\n",
    "lookY=[]\n",
    "\n",
    "f = open(name+'/Eye/PupilDialationX.txt', 'r')\n",
    "for line in f:\n",
    "    pupilX.append(float(line))\n",
    "f.close()\n",
    "g = open(name+'/Eye/PupilDialationY.txt', 'r')\n",
    "for line in g:\n",
    "    pupilY.append(float(line))\n",
    "g.close()\n",
    "\n",
    "f = open(name+'/Triggers/TriggerEventLogX.txt', 'r')\n",
    "for line in f:\n",
    "    triggerX.append(float(line))\n",
    "f.close()\n",
    "g = open(name+'/Triggers/TriggerEventLogY.txt', 'r')\n",
    "for line in g:\n",
    "    triggerY.append(float(line))\n",
    "g.close()\n",
    "\n",
    "f = open(name+'/Looking/GameLookingDataX.txt', 'r')\n",
    "for line in f:\n",
    "    lookX.append(float(line))\n",
    "f.close()\n",
    "g = open(name+'/Looking/GameLookingDataY.txt', 'r')\n",
    "for line in g:\n",
    "    lookY.append(float(line))\n",
    "g.close()\n",
    "\n",
    "#plotting the data\n",
    "plt.xlabel('Time in sec')\n",
    "plt.ylabel('Milimeters x 10')\n",
    "plt.plot(pupilX,pupilY,label=\"PupDia\")\n",
    "plt.bar(triggerX,triggerY,color = 'r',edgecolor = 'r', width = 0.05, label=\"Trig\")\n",
    "plt.plot(lookX,lookY,color = 'k',label=\"Look\")\n",
    "plt.show()"
   ]
  },
  {
   "cell_type": "code",
   "execution_count": 2,
   "metadata": {
    "collapsed": false
   },
   "outputs": [],
   "source": [
    "#applying the median filter\n",
    "\n",
    "import numpy as np\n",
    "\n",
    "#first we make the list into an array\n",
    "pupilY = np.array(pupilY)\n",
    "\n",
    "#the median filter\n",
    "def replace(data):\n",
    "    median = np.median(data)\n",
    "    std = np.std(data)\n",
    "    outliers = np.abs(data - median) > 3*std\n",
    "    data[outliers] = median\n",
    "    return data\n",
    "\n",
    "#loop to repeat the meddian filter 10 times\n",
    "for x in range(0, 9):\n",
    "    pupilY2 = replace(pupilY)\n",
    "\n",
    "#from array back to list    \n",
    "pupilY2 = pupilY2.tolist()\n",
    "\n",
    "#plotting the data with a median filter\n",
    "plt.xlabel('Time in sec')\n",
    "plt.ylabel('Milimeters x 10')\n",
    "plt.plot(pupilX,pupilY2,label=\"PupDia\")\n",
    "plt.bar(triggerX,triggerY,color = 'r',edgecolor = 'r', width = 0.05, label=\"Trig\")\n",
    "plt.plot(lookX,lookY,color = 'k',label=\"Look\")\n",
    "plt.show()"
   ]
  },
  {
   "cell_type": "code",
   "execution_count": 6,
   "metadata": {
    "collapsed": true
   },
   "outputs": [],
   "source": [
    "#Code used to see one pupil at a time, to see if they match in order to maybe detect the jitter.\n",
    "pupilLeft=[]\n",
    "pupilRight=[]\n",
    "\n",
    "f = open(name+'/Eye/PupilDialationLeft.txt', 'r')\n",
    "for line in f:\n",
    "    pupilLeft.append(float(line))\n",
    "f.close()\n",
    "g = open(name+'/Eye/PupilDialationRight.txt', 'r')\n",
    "for line in g:\n",
    "    pupilRight.append(float(line))\n",
    "g.close()\n",
    "plt.xlabel('Time')\n",
    "plt.ylabel('Milimeters')\n",
    "plt.title('Features of the game')\n",
    "plt.plot(pupilX,pupilY,label=\"PupDia\")\n",
    "plt.bar(triggerX,triggerY,color = 'r',edgecolor = 'r', width = 0.05, label=\"Trig\")\n",
    "plt.plot(lookX,lookY,color = 'k',label=\"Look\")\n",
    "plt.show()"
   ]
  }
 ],
 "metadata": {
  "kernelspec": {
   "display_name": "Python 2",
   "language": "python",
   "name": "python2"
  },
  "language_info": {
   "codemirror_mode": {
    "name": "ipython",
    "version": 2
   },
   "file_extension": ".py",
   "mimetype": "text/x-python",
   "name": "python",
   "nbconvert_exporter": "python",
   "pygments_lexer": "ipython2",
   "version": "2.7.11"
  }
 },
 "nbformat": 4,
 "nbformat_minor": 0
}
